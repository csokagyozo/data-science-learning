{
 "cells": [
  {
   "cell_type": "markdown",
   "metadata": {},
   "source": [
    "The MNIST (Modified National Institute of Standards and Technology) dataset is set of images of hand-written digits. The images are greyscale and have the size of 28x28 pixels. It is a very common dataset for testing and benchmarking machine learning algorithms. You can read more about it here: https://en.wikipedia.org/wiki/MNIST_database, or you can check the digit recognizer kaggle competition: https://www.kaggle.com/competitions/digit-recognizer.\n",
    "\n",
    "Working with the MNIST dataset, our task is to recognize hand-written digits.\n",
    "\n",
    "I am going to try out different approaches to build and train a neural network, starting with the most simple one, then optimizing its parameters, then using different techniques.\n",
    "\n",
    "First let's load the training data. The input files and the train/test split is provided by tensorflow."
   ]
  },
  {
   "cell_type": "code",
   "execution_count": 1,
   "metadata": {
    "_cell_guid": "b1076dfc-b9ad-4769-8c92-a6c4dae69d19",
    "_uuid": "8f2839f25d086af736a60e9eeb907d3b93b6e0e5",
    "execution": {
     "iopub.execute_input": "2023-04-14T21:24:46.947430Z",
     "iopub.status.busy": "2023-04-14T21:24:46.946877Z",
     "iopub.status.idle": "2023-04-14T21:24:51.322833Z",
     "shell.execute_reply": "2023-04-14T21:24:51.321604Z",
     "shell.execute_reply.started": "2023-04-14T21:24:46.947379Z"
    }
   },
   "outputs": [
    {
     "name": "stdout",
     "output_type": "stream",
     "text": [
      "(60000, 28, 28)\n",
      "(10000, 28, 28)\n",
      "(60000, 784)\n",
      "(10000, 784)\n"
     ]
    }
   ],
   "source": [
    "import tensorflow as tf\n",
    "from tensorflow import keras\n",
    "\n",
    "\n",
    "(x, y), (validation_x, validation_y) = tf.keras.datasets.mnist.load_data(path='mnist.npz')\n",
    "print(x.shape)\n",
    "print(validation_x.shape)\n",
    "x = x.reshape(60000, 784)\n",
    "validation_x = validation_x.reshape(10000, 784)\n",
    "print(x.shape)\n",
    "print(validation_x.shape)\n"
   ]
  },
  {
   "cell_type": "markdown",
   "metadata": {
    "execution": {
     "iopub.execute_input": "2023-03-18T18:40:19.605561Z",
     "iopub.status.busy": "2023-03-18T18:40:19.605001Z",
     "iopub.status.idle": "2023-03-18T18:40:19.624984Z",
     "shell.execute_reply": "2023-03-18T18:40:19.623811Z",
     "shell.execute_reply.started": "2023-03-18T18:40:19.605516Z"
    }
   },
   "source": [
    "Now let's build and train the first model, a sequential model with 3 dense layers between the input and output layers. The number of units are chosen by simply following the \"usual shape\" of models of similar tasks. Probably more about it later.\n",
    "\n",
    "For the output layer I chose linear activation instead of softmax, while setting from_logits=True for the loss function -- a trick I have learned from Andrew Ng's course to prevent some rounding errors."
   ]
  },
  {
   "cell_type": "code",
   "execution_count": 2,
   "metadata": {
    "execution": {
     "iopub.execute_input": "2023-04-14T21:25:04.774128Z",
     "iopub.status.busy": "2023-04-14T21:25:04.773633Z",
     "iopub.status.idle": "2023-04-14T21:25:15.168962Z",
     "shell.execute_reply": "2023-04-14T21:25:15.167132Z",
     "shell.execute_reply.started": "2023-04-14T21:25:04.774081Z"
    }
   },
   "outputs": [],
   "source": [
    "def create_model(alpha=0.001):\n",
    "    model = tf.keras.models.Sequential()\n",
    "    model.add(tf.keras.Input(shape=(784,)))\n",
    "    model.add(tf.keras.layers.Dense(1000, activation='relu'))\n",
    "    model.add(tf.keras.layers.Dense(500, activation='relu'))\n",
    "    model.add(tf.keras.layers.Dense(200, activation='relu'))\n",
    "    model.add(tf.keras.layers.Dense(10, activation='linear'))\n",
    "    model.compile(loss=tf.keras.losses.SparseCategoricalCrossentropy(from_logits=True),\n",
    "                  optimizer=tf.keras.optimizers.Adam(alpha))\n",
    "    return model\n"
   ]
  },
  {
   "cell_type": "markdown",
   "metadata": {},
   "source": [
    "Check accuracy of digit recognition both on the train and the validation set:"
   ]
  },
  {
   "cell_type": "code",
   "execution_count": 5,
   "metadata": {
    "execution": {
     "iopub.execute_input": "2023-04-14T21:25:15.172617Z",
     "iopub.status.busy": "2023-04-14T21:25:15.171578Z",
     "iopub.status.idle": "2023-04-14T21:25:45.651968Z",
     "shell.execute_reply": "2023-04-14T21:25:45.648347Z",
     "shell.execute_reply.started": "2023-04-14T21:25:15.172560Z"
    }
   },
   "outputs": [
    {
     "name": "stdout",
     "output_type": "stream",
     "text": [
      "1000/1000 [==============================] - 20s 19ms/step - loss: 2.4708\n",
      "1000/1000 [==============================] - 5s 5ms/step\n",
      "Accuracy on the training set: 0.93109375\n",
      "313/313 [==============================] - 2s 5ms/step\n",
      "Accuracy on the validation set: 0.913\n"
     ]
    }
   ],
   "source": [
    "import numpy as np\n",
    "\n",
    "\n",
    "def accuracy(model, x, y, verbose=False):\n",
    "\n",
    "    n = len(y)\n",
    "    output = model.predict(x)\n",
    "    yhat = np.empty(n, dtype=int)\n",
    "    for i in range(n):\n",
    "        digit = output[i].argmax()\n",
    "        yhat[i] = digit\n",
    "    wrong_count = 0\n",
    "    for i in range(n):\n",
    "        if y[i] != yhat[i]:\n",
    "            if verbose:\n",
    "                print(f\"Wrongly predicted {yhat[i]}, but it was {y[i]}\")\n",
    "            wrong_count += 1\n",
    "    accuracy = 1 - wrong_count/n\n",
    "    return accuracy\n",
    "\n",
    "\n",
    "model = create_model(alpha=0.0001)\n",
    "model.fit(x, y, epochs=1)\n",
    "print(f\"Accuracy on the training set: {accuracy(model, x, y)}\")\n",
    "print(f\"Accuracy on the validation set: {accuracy(model, validation_x, validation_y)}\")"
   ]
  },
  {
   "cell_type": "markdown",
   "metadata": {},
   "source": [
    "It is already above 90% -- a good baseline to start with.\n",
    "\n",
    "Now let's explore how much difference the number of epochs and the parameter alpha of the optimizer make. If you want to speed it up just change the number of calculated steps (N) of the next code snippets.\n",
    "\n",
    "(side note: the optimal choice of epochs remains the same regardless of the learning rate, that's why we can optimize them in distinct steps. You can try changing the constants and check the results)"
   ]
  },
  {
   "cell_type": "code",
   "execution_count": 21,
   "metadata": {
    "execution": {
     "iopub.execute_input": "2023-04-14T14:54:16.966996Z",
     "iopub.status.busy": "2023-04-14T14:54:16.966436Z",
     "iopub.status.idle": "2023-04-14T15:00:17.775440Z",
     "shell.execute_reply": "2023-04-14T15:00:17.774070Z",
     "shell.execute_reply.started": "2023-04-14T14:54:16.966958Z"
    }
   },
   "outputs": [
    {
     "name": "stdout",
     "output_type": "stream",
     "text": [
      "1000/1000 [==============================] - 18s 18ms/step - loss: 1.6982\n",
      "1000/1000 [==============================] - 5s 5ms/step\n",
      "313/313 [==============================] - 2s 5ms/step\n",
      "1000/1000 [==============================] - 17s 17ms/step - loss: 0.1975\n",
      "1000/1000 [==============================] - 5s 5ms/step\n",
      "313/313 [==============================] - 1s 5ms/step\n",
      "1000/1000 [==============================] - 17s 17ms/step - loss: 0.1776\n",
      "1000/1000 [==============================] - 5s 5ms/step\n",
      "313/313 [==============================] - 2s 5ms/step\n",
      "1000/1000 [==============================] - 18s 18ms/step - loss: 0.1543\n",
      "1000/1000 [==============================] - 5s 5ms/step\n",
      "313/313 [==============================] - 2s 5ms/step\n",
      "1000/1000 [==============================] - 17s 17ms/step - loss: 0.1295\n",
      "1000/1000 [==============================] - 5s 5ms/step\n",
      "313/313 [==============================] - 2s 5ms/step\n",
      "1000/1000 [==============================] - 17s 17ms/step - loss: 0.1247\n",
      "1000/1000 [==============================] - 5s 5ms/step\n",
      "313/313 [==============================] - 1s 5ms/step\n",
      "1000/1000 [==============================] - 17s 17ms/step - loss: 0.1116\n",
      "1000/1000 [==============================] - 5s 5ms/step\n",
      "313/313 [==============================] - 2s 5ms/step\n",
      "1000/1000 [==============================] - 17s 17ms/step - loss: 0.1151\n",
      "1000/1000 [==============================] - 5s 5ms/step\n",
      "313/313 [==============================] - 2s 5ms/step\n",
      "1000/1000 [==============================] - 17s 17ms/step - loss: 0.0974\n",
      "1000/1000 [==============================] - 5s 5ms/step\n",
      "313/313 [==============================] - 1s 5ms/step\n",
      "1000/1000 [==============================] - 17s 17ms/step - loss: 0.0833\n",
      "1000/1000 [==============================] - 5s 5ms/step\n",
      "313/313 [==============================] - 2s 5ms/step\n",
      "1000/1000 [==============================] - 17s 17ms/step - loss: 0.0905\n",
      "1000/1000 [==============================] - 5s 5ms/step\n",
      "313/313 [==============================] - 1s 5ms/step\n",
      "1000/1000 [==============================] - 17s 17ms/step - loss: 0.0809\n",
      "1000/1000 [==============================] - 5s 5ms/step\n",
      "313/313 [==============================] - 1s 5ms/step\n",
      "1000/1000 [==============================] - 17s 17ms/step - loss: 0.0717\n",
      "1000/1000 [==============================] - 5s 5ms/step\n",
      "313/313 [==============================] - 2s 5ms/step\n",
      "1000/1000 [==============================] - 18s 18ms/step - loss: 0.0606\n",
      "1000/1000 [==============================] - 5s 5ms/step\n",
      "313/313 [==============================] - 2s 5ms/step\n"
     ]
    },
    {
     "data": {
      "image/png": "[encoded data removed]",
      "text/plain": [
       "<Figure size 640x480 with 1 Axes>"
      ]
     },
     "metadata": {},
     "output_type": "display_data"
    }
   ],
   "source": [
    "import matplotlib.pyplot as plt\n",
    "\n",
    "\n",
    "def plot_accuracy(train_accuracy, validation_accuracy, xlabel, xlim_min, xlim_max, ylim_min, ylim_max):\n",
    "    plt.scatter(train_accuracy[:, 0], train_accuracy[:, 1], label='training')\n",
    "    plt.scatter(validation_accuracy[:, 0], validation_accuracy[:, 1], label='validation')\n",
    "    plt.title('Accuracy on training and validation sets')\n",
    "    plt.xlabel(xlabel)\n",
    "    plt.ylabel('accuracy')\n",
    "    plt.xlim(xlim_min, xlim_max)\n",
    "    plt.ylim(ylim_min, ylim_max)\n",
    "    plt.legend()\n",
    "    plt.show()\n",
    "    \n",
    "\n",
    "N = 14\n",
    "model = create_model()\n",
    "epoch_train_accuracy = np.empty([N,2])\n",
    "epoch_validation_accuracy = np.empty([N,2])\n",
    "for i in range(N):\n",
    "    epochs = i+1\n",
    "    model.fit(x, y, epochs=1)\n",
    "    epoch_train_accuracy[i][0]=epochs\n",
    "    epoch_train_accuracy[i][1]=accuracy(model, x, y)\n",
    "    epoch_validation_accuracy[i][0]=epochs\n",
    "    epoch_validation_accuracy[i][1]=accuracy(model, validation_x, validation_y)\n",
    "plot_accuracy(epoch_train_accuracy, epoch_validation_accuracy, 'epochs', 0, 15, 0.9, 1)"
   ]
  },
  {
   "cell_type": "markdown",
   "metadata": {},
   "source": [
    "What we can see on the plot is that training with more epochs leads to better results, but above 9 it is not significant. This is true independently of changing the learning rate, Considering your limits in runtime we can choose the number of epochs 5 or 11.\n",
    "\n",
    "Now let's take a look at the Adam optimizer's learning rate."
   ]
  },
  {
   "cell_type": "code",
   "execution_count": 48,
   "metadata": {
    "execution": {
     "iopub.execute_input": "2023-04-14T17:00:18.555297Z",
     "iopub.status.busy": "2023-04-14T17:00:18.554754Z",
     "iopub.status.idle": "2023-04-14T17:06:07.236372Z",
     "shell.execute_reply": "2023-04-14T17:06:07.234661Z",
     "shell.execute_reply.started": "2023-04-14T17:00:18.555259Z"
    }
   },
   "outputs": [
    {
     "name": "stdout",
     "output_type": "stream",
     "text": [
      "1000/1000 [==============================] - 18s 17ms/step - loss: 2.3722\n",
      "1000/1000 [==============================] - 5s 5ms/step\n",
      "313/313 [==============================] - 2s 5ms/step\n",
      "1000/1000 [==============================] - 18s 18ms/step - loss: 1.9566\n",
      "1000/1000 [==============================] - 5s 5ms/step\n",
      "313/313 [==============================] - 2s 5ms/step\n",
      "1000/1000 [==============================] - 19s 18ms/step - loss: 1.7429\n",
      "1000/1000 [==============================] - 5s 5ms/step\n",
      "313/313 [==============================] - 2s 5ms/step\n",
      "1000/1000 [==============================] - 19s 18ms/step - loss: 1.4942\n",
      "1000/1000 [==============================] - 5s 5ms/step\n",
      "313/313 [==============================] - 2s 5ms/step\n",
      "1000/1000 [==============================] - 19s 18ms/step - loss: 1.5453\n",
      "1000/1000 [==============================] - 5s 5ms/step\n",
      "313/313 [==============================] - 2s 5ms/step\n",
      "1000/1000 [==============================] - 19s 18ms/step - loss: 1.5409\n",
      "1000/1000 [==============================] - 5s 5ms/step\n",
      "313/313 [==============================] - 2s 5ms/step\n",
      "1000/1000 [==============================] - 19s 18ms/step - loss: 1.5648\n",
      "1000/1000 [==============================] - 5s 5ms/step\n",
      "313/313 [==============================] - 2s 5ms/step\n",
      "1000/1000 [==============================] - 19s 18ms/step - loss: 1.5725\n",
      "1000/1000 [==============================] - 5s 5ms/step\n",
      "313/313 [==============================] - 2s 5ms/step\n",
      "1000/1000 [==============================] - 19s 18ms/step - loss: 2.0695\n",
      "1000/1000 [==============================] - 5s 5ms/step\n",
      "313/313 [==============================] - 2s 5ms/step\n",
      "1000/1000 [==============================] - 19s 18ms/step - loss: 2.3439\n",
      "1000/1000 [==============================] - 6s 6ms/step\n",
      "313/313 [==============================] - 2s 5ms/step\n",
      "1000/1000 [==============================] - 19s 18ms/step - loss: 3.8705\n",
      "1000/1000 [==============================] - 5s 5ms/step\n",
      "313/313 [==============================] - 2s 6ms/step\n",
      "1000/1000 [==============================] - 20s 17ms/step - loss: 6.5056\n",
      "1000/1000 [==============================] - 5s 5ms/step\n",
      "313/313 [==============================] - 2s 5ms/step\n"
     ]
    },
    {
     "data": {
      "image/png": "[encoded data removed]",
      "text/plain": [
       "<Figure size 640x480 with 1 Axes>"
      ]
     },
     "metadata": {},
     "output_type": "display_data"
    }
   ],
   "source": [
    "N = 12\n",
    "alpha_train_accuracy = np.empty([N,2])\n",
    "alpha_validation_accuracy = np.empty([N,2])\n",
    "\n",
    "for i in range(N):\n",
    "    test_alpha=0.0001 * (1.5)**i\n",
    "    model = create_model(alpha=test_alpha)\n",
    "    model.fit(x, y)\n",
    "    alpha_train_accuracy[i][0]=test_alpha\n",
    "    alpha_train_accuracy[i][1]=accuracy(model, x, y)\n",
    "    alpha_validation_accuracy[i][0]=test_alpha\n",
    "    alpha_validation_accuracy[i][1]=accuracy(model, validation_x, validation_y)\n",
    "plot_accuracy(alpha_train_accuracy, alpha_validation_accuracy, 'alpha of Adam', 0, 0.01, 0.8, 1)\n"
   ]
  },
  {
   "cell_type": "markdown",
   "metadata": {},
   "source": [
    "We can already see that the maximum is around 0.001. Let's zoom in, enhance it!"
   ]
  },
  {
   "cell_type": "code",
   "execution_count": 20,
   "metadata": {
    "execution": {
     "iopub.execute_input": "2023-04-14T14:47:53.881247Z",
     "iopub.status.busy": "2023-04-14T14:47:53.880477Z",
     "iopub.status.idle": "2023-04-14T14:52:57.707043Z",
     "shell.execute_reply": "2023-04-14T14:52:57.705376Z",
     "shell.execute_reply.started": "2023-04-14T14:47:53.881201Z"
    }
   },
   "outputs": [
    {
     "name": "stdout",
     "output_type": "stream",
     "text": [
      "1000/1000 [==============================] - 19s 18ms/step - loss: 1.9540\n",
      "1000/1000 [==============================] - 5s 5ms/step\n",
      "313/313 [==============================] - 2s 5ms/step\n",
      "1000/1000 [==============================] - 18s 18ms/step - loss: 1.7765\n",
      "1000/1000 [==============================] - 5s 5ms/step\n",
      "313/313 [==============================] - 2s 5ms/step\n",
      "1000/1000 [==============================] - 18s 18ms/step - loss: 1.7820\n",
      "1000/1000 [==============================] - 5s 5ms/step\n",
      "313/313 [==============================] - 2s 5ms/step\n",
      "1000/1000 [==============================] - 18s 17ms/step - loss: 1.5993\n",
      "1000/1000 [==============================] - 5s 5ms/step\n",
      "313/313 [==============================] - 2s 5ms/step\n",
      "1000/1000 [==============================] - 18s 17ms/step - loss: 1.4838\n",
      "1000/1000 [==============================] - 5s 5ms/step\n",
      "313/313 [==============================] - 2s 5ms/step\n",
      "1000/1000 [==============================] - 18s 17ms/step - loss: 1.7917\n",
      "1000/1000 [==============================] - 5s 5ms/step\n",
      "313/313 [==============================] - 2s 5ms/step\n",
      "1000/1000 [==============================] - 18s 17ms/step - loss: 1.6844\n",
      "1000/1000 [==============================] - 5s 5ms/step\n",
      "313/313 [==============================] - 2s 5ms/step\n",
      "1000/1000 [==============================] - 18s 17ms/step - loss: 1.8407\n",
      "1000/1000 [==============================] - 5s 5ms/step\n",
      "313/313 [==============================] - 2s 5ms/step\n",
      "1000/1000 [==============================] - 18s 18ms/step - loss: 1.7001\n",
      "1000/1000 [==============================] - 5s 5ms/step\n",
      "313/313 [==============================] - 2s 5ms/step\n",
      "1000/1000 [==============================] - 18s 18ms/step - loss: 1.7244\n",
      "1000/1000 [==============================] - 5s 5ms/step\n",
      "313/313 [==============================] - 2s 5ms/step\n",
      "1000/1000 [==============================] - 19s 18ms/step - loss: 1.8180\n",
      "1000/1000 [==============================] - 5s 5ms/step\n",
      "313/313 [==============================] - 2s 5ms/step\n"
     ]
    },
    {
     "data": {
      "image/png": "[encoded data removed]",
      "text/plain": [
       "<Figure size 640x480 with 1 Axes>"
      ]
     },
     "metadata": {},
     "output_type": "display_data"
    }
   ],
   "source": [
    "N = 11\n",
    "alpha_train_accuracy = np.empty([N,2])\n",
    "alpha_validation_accuracy = np.empty([N,2])\n",
    "for i in range(N):\n",
    "    test_alpha=0.0002 + i * 0.0002\n",
    "    model = create_model(alpha=test_alpha)\n",
    "    model.fit(x, y)\n",
    "    alpha_train_accuracy[i][0]=test_alpha\n",
    "    alpha_train_accuracy[i][1]=accuracy(model, x, y)\n",
    "    alpha_validation_accuracy[i][0]=test_alpha\n",
    "    alpha_validation_accuracy[i][1]=accuracy(model, validation_x, validation_y)\n",
    "plot_accuracy(alpha_train_accuracy, alpha_validation_accuracy, 'alpha of Adam', 0, 0.0025, 0.9, 1)\n"
   ]
  },
  {
   "cell_type": "markdown",
   "metadata": {},
   "source": [
    "side note: We don't have to do the parameter optimization manually, there are several implementations of grid search that we can use. You can run the next 2 cells to see how the sklearn implementation works."
   ]
  },
  {
   "cell_type": "code",
   "execution_count": 3,
   "metadata": {},
   "outputs": [
    {
     "name": "stdout",
     "output_type": "stream",
     "text": [
      "1875/1875 [==============================] - 31s 16ms/step - loss: 0.9210\n"
     ]
    }
   ],
   "source": [
    "from scikeras.wrappers import KerasClassifier\n",
    "from sklearn.model_selection import GridSearchCV\n",
    "\n",
    "model = KerasClassifier(model=create_model, alpha=0.001)\n",
    "epochs=[1]\n",
    "alpha=[0.0001, 0.001, 0.01]\n",
    "param_grid = dict(epochs=epochs, alpha=alpha)\n",
    "grid = GridSearchCV(estimator=model, param_grid=param_grid, n_jobs=-1, cv=2)\n",
    "grid_result = grid.fit(x, y)"
   ]
  },
  {
   "cell_type": "code",
   "execution_count": 4,
   "metadata": {},
   "outputs": [
    {
     "data": {
      "text/plain": [
       "{'mean_fit_time': array([53.45219982, 54.80795634, 52.82696867]),\n",
       " 'std_fit_time': array([0.13304079, 2.01594508, 0.00298333]),\n",
       " 'mean_score_time': array([14.93493235, 13.85173023, 15.25166583]),\n",
       " 'std_score_time': array([0.03420579, 1.38695586, 0.02096558]),\n",
       " 'param_alpha': masked_array(data=[0.0001, 0.001, 0.01],\n",
       "              mask=[False, False, False],\n",
       "        fill_value='?',\n",
       "             dtype=object),\n",
       " 'param_epochs': masked_array(data=[1, 1, 1],\n",
       "              mask=[False, False, False],\n",
       "        fill_value='?',\n",
       "             dtype=object),\n",
       " 'params': [{'alpha': 0.0001, 'epochs': 1},\n",
       "  {'alpha': 0.001, 'epochs': 1},\n",
       "  {'alpha': 0.01, 'epochs': 1}],\n",
       " 'split0_test_score': array([0.92263333, 0.93713333, 0.2031    ]),\n",
       " 'split1_test_score': array([0.91926667, 0.9274    , 0.88383333]),\n",
       " 'mean_test_score': array([0.92095   , 0.93226667, 0.54346667]),\n",
       " 'std_test_score': array([0.00168333, 0.00486667, 0.34036667]),\n",
       " 'rank_test_score': array([2, 1, 3])}"
      ]
     },
     "execution_count": 4,
     "metadata": {},
     "output_type": "execute_result"
    }
   ],
   "source": [
    "grid_result.cv_results_"
   ]
  },
  {
   "cell_type": "markdown",
   "metadata": {},
   "source": [
    "There are no significant differences. Let's choose 0.0018 as alpha and see how it goes."
   ]
  },
  {
   "cell_type": "code",
   "execution_count": 29,
   "metadata": {
    "execution": {
     "iopub.execute_input": "2023-04-14T15:25:13.140500Z",
     "iopub.status.busy": "2023-04-14T15:25:13.138863Z",
     "iopub.status.idle": "2023-04-14T15:28:35.281072Z",
     "shell.execute_reply": "2023-04-14T15:28:35.279364Z",
     "shell.execute_reply.started": "2023-04-14T15:25:13.140447Z"
    }
   },
   "outputs": [
    {
     "name": "stdout",
     "output_type": "stream",
     "text": [
      "Epoch 1/11\n",
      "1000/1000 [==============================] - 19s 18ms/step - loss: 1.8775\n",
      "Epoch 2/11\n",
      "1000/1000 [==============================] - 17s 17ms/step - loss: 0.2452\n",
      "Epoch 3/11\n",
      "1000/1000 [==============================] - 18s 18ms/step - loss: 0.1819\n",
      "Epoch 4/11\n",
      "1000/1000 [==============================] - 17s 17ms/step - loss: 0.1681\n",
      "Epoch 5/11\n",
      "1000/1000 [==============================] - 18s 18ms/step - loss: 0.1679\n",
      "Epoch 6/11\n",
      "1000/1000 [==============================] - 18s 18ms/step - loss: 0.1538\n",
      "Epoch 7/11\n",
      "1000/1000 [==============================] - 18s 18ms/step - loss: 0.1358\n",
      "Epoch 8/11\n",
      "1000/1000 [==============================] - 18s 18ms/step - loss: 0.1319\n",
      "Epoch 9/11\n",
      "1000/1000 [==============================] - 17s 17ms/step - loss: 0.1285\n",
      "Epoch 10/11\n",
      "1000/1000 [==============================] - 18s 18ms/step - loss: 0.1410\n",
      "Epoch 11/11\n",
      "1000/1000 [==============================] - 17s 17ms/step - loss: 0.1441\n",
      "1000/1000 [==============================] - 5s 5ms/step\n",
      "Accuracy on the training set: 0.97478125\n",
      "313/313 [==============================] - 2s 5ms/step\n",
      "Accuracy on the validation set: 0.9569\n"
     ]
    }
   ],
   "source": [
    "model = create_model(alpha=0.0018)\n",
    "model.fit(x, y, epochs=5)\n",
    "print(f\"Accuracy on the training set: {accuracy(model, x, y)}\")\n",
    "print(f\"Accuracy on the validation set: {accuracy(model, validation_x, validation_y)}\")"
   ]
  },
  {
   "cell_type": "markdown",
   "metadata": {},
   "source": [
    "Above 95%! I am very happy with this number, but I wonder what the typical errors are, is there a pattern there? If we find many cases of the same type of errors, we can choose training data that focuses on those changes and improve the results."
   ]
  },
  {
   "cell_type": "code",
   "execution_count": 46,
   "metadata": {
    "execution": {
     "iopub.execute_input": "2023-04-14T15:57:43.318240Z",
     "iopub.status.busy": "2023-04-14T15:57:43.317685Z",
     "iopub.status.idle": "2023-04-14T15:57:45.226768Z",
     "shell.execute_reply": "2023-04-14T15:57:45.224084Z",
     "shell.execute_reply.started": "2023-04-14T15:57:43.318200Z"
    }
   },
   "outputs": [
    {
     "name": "stdout",
     "output_type": "stream",
     "text": [
      "313/313 [==============================] - 2s 5ms/step\n"
     ]
    },
    {
     "data": {
      "text/plain": [
       "array([[ 980,    0,    2,    0,    5,    0,    6,    2,   14,    2],\n",
       "       [   0, 1107,    1,    1,   23,    2,    1,    2,    2,    0],\n",
       "       [   4,   10,  855,   24,   12,    0,    4,   16,   33,    5],\n",
       "       [   1,    3,    2, 1004,    2,    7,    0,    2,   13,   15],\n",
       "       [   0,    4,    0,    0,  905,    0,    6,    1,    3,   13],\n",
       "       [   2,    1,    1,   21,    2,  840,    4,    0,   17,    4],\n",
       "       [   4,    2,    0,    0,    2,    8,  972,    0,    3,    0],\n",
       "       [   0,    0,    1,    8,    3,    0,    0, 1035,    3,    8],\n",
       "       [   0,    6,    1,    4,   15,    5,    0,    1,  932,    5],\n",
       "       [   3,    1,    1,    5,   18,   12,    0,    9,    8,  939]])"
      ]
     },
     "execution_count": 46,
     "metadata": {},
     "output_type": "execute_result"
    }
   ],
   "source": [
    "def predictions(model, x, y):\n",
    "\n",
    "    n = len(y)\n",
    "    output = model.predict(x)\n",
    "    yhat = np.empty(n, dtype=int)\n",
    "    for i in range(n):\n",
    "        digit = output[i].argmax()\n",
    "        yhat[i] = digit\n",
    "    predictions = np.full((10,10), 0, dtype=int)\n",
    "    for i in range(n):\n",
    "        predictions[y[i]][yhat[i]] += 1\n",
    "    return predictions\n",
    "\n",
    "\n",
    "predictions(model, validation_x, validation_y)\n"
   ]
  },
  {
   "cell_type": "markdown",
   "metadata": {},
   "source": [
    "There is clearly a problem with recognising '2', it is only 89% accurate. We could add more examples for a hand-written '2', either by collecting or generating more images. Also, taking a look at the training data can reveal that there is a different way of writing the digit.\n",
    "\n",
    "But let's go for some bigger impact and take a different approach with using convolutional layers."
   ]
  },
  {
   "cell_type": "code",
   "execution_count": 6,
   "metadata": {
    "execution": {
     "iopub.execute_input": "2023-04-14T21:25:45.656494Z",
     "iopub.status.busy": "2023-04-14T21:25:45.655150Z",
     "iopub.status.idle": "2023-04-14T21:26:07.513468Z",
     "shell.execute_reply": "2023-04-14T21:26:07.512032Z",
     "shell.execute_reply.started": "2023-04-14T21:25:45.656441Z"
    }
   },
   "outputs": [
    {
     "name": "stdout",
     "output_type": "stream",
     "text": [
      "1000/1000 [==============================] - 21s 20ms/step - loss: 0.3731\n"
     ]
    },
    {
     "data": {
      "text/plain": [
       "<keras.callbacks.History at 0x734c80f28a90>"
      ]
     },
     "execution_count": 6,
     "metadata": {},
     "output_type": "execute_result"
    }
   ],
   "source": [
    "def create_convolutional_model(alpha=0.001):\n",
    "    model = tf.keras.models.Sequential()\n",
    "    model.add(tf.keras.layers.Conv2D(32, (3, 3), activation='relu', input_shape=(28, 28, 1)))\n",
    "    model.add(tf.keras.layers.MaxPooling2D((2, 2)))\n",
    "    model.add(tf.keras.layers.Conv2D(64, (3, 3), activation='relu'))\n",
    "    model.add(tf.keras.layers.MaxPooling2D((2, 2)))\n",
    "    model.add(tf.keras.layers.Flatten())\n",
    "    model.add(tf.keras.layers.Dense(64, activation='relu'))\n",
    "    model.add(tf.keras.layers.Dense(10, activation='linear'))\n",
    "    model.compile(loss=tf.keras.losses.SparseCategoricalCrossentropy(from_logits=True),\n",
    "                  optimizer=tf.keras.optimizers.Adam(alpha))\n",
    "    return model\n",
    "\n",
    "\n",
    "x_formatted = x.reshape(32000,28,28)\n",
    "validation_x_formatted = validation_x.reshape(10000,28,28)\n",
    "conv_model = create_convolutional_model()\n",
    "conv_model.fit(x_formatted, y, epochs=1)"
   ]
  },
  {
   "cell_type": "code",
   "execution_count": 7,
   "metadata": {
    "execution": {
     "iopub.execute_input": "2023-04-14T21:26:15.282659Z",
     "iopub.status.busy": "2023-04-14T21:26:15.281258Z",
     "iopub.status.idle": "2023-04-14T21:26:26.349195Z",
     "shell.execute_reply": "2023-04-14T21:26:26.347796Z",
     "shell.execute_reply.started": "2023-04-14T21:26:15.282587Z"
    }
   },
   "outputs": [
    {
     "name": "stdout",
     "output_type": "stream",
     "text": [
      "1000/1000 [==============================] - 7s 7ms/step\n",
      "Accuracy on the training set: 0.9790625\n",
      "313/313 [==============================] - 2s 7ms/step\n",
      "Accuracy on the validation set: 0.9748\n"
     ]
    }
   ],
   "source": [
    "print(f\"Accuracy on the training set: {accuracy(conv_model,x_formatted,y)}\")\n",
    "print(f\"Accuracy on the validation set: {accuracy(conv_model, validation_x_formatted, validation_y)}\")"
   ]
  },
  {
   "cell_type": "markdown",
   "metadata": {},
   "source": [
    "The results show immediately that convolutional neural networks (CNNs) are for image processing. This very first try performs better than the simple NN.\n",
    "\n",
    "For more improvements I asked a good friend Istvan Estelyi to share some of his experience with CNNs. I used his advice, and created this version:"
   ]
  },
  {
   "cell_type": "code",
   "execution_count": 8,
   "metadata": {
    "execution": {
     "iopub.execute_input": "2023-04-14T21:26:37.617857Z",
     "iopub.status.busy": "2023-04-14T21:26:37.617415Z",
     "iopub.status.idle": "2023-04-14T21:34:15.069799Z",
     "shell.execute_reply": "2023-04-14T21:34:15.068314Z",
     "shell.execute_reply.started": "2023-04-14T21:26:37.617818Z"
    }
   },
   "outputs": [
    {
     "name": "stdout",
     "output_type": "stream",
     "text": [
      "Epoch 1/5\n",
      "320/320 [==============================] - 93s 287ms/step - loss: 0.4717\n",
      "Epoch 2/5\n",
      "320/320 [==============================] - 91s 286ms/step - loss: 0.0849\n",
      "Epoch 3/5\n",
      "320/320 [==============================] - 92s 286ms/step - loss: 0.0624\n",
      "Epoch 4/5\n",
      "320/320 [==============================] - 90s 282ms/step - loss: 0.0526\n",
      "Epoch 5/5\n",
      "320/320 [==============================] - 91s 283ms/step - loss: 0.0453\n"
     ]
    }
   ],
   "source": [
    "def create_and_train_model_functional(x_, y_, alpha=0.001, epoch=1):\n",
    "    x = tf.keras.Input(shape=(28, 28, 1))\n",
    "    conv_layer_1 = tf.keras.layers.Conv2D(filters = 64, kernel_size=[5,5], padding=\"same\",\n",
    "                                          activation='relu')(x)\n",
    "    pool_layer_1 = tf.keras.layers.MaxPool2D(pool_size=[2, 2], strides=2)(conv_layer_1)\n",
    "    conv_layer_2 = tf.keras.layers.Conv2D(filters = 64, kernel_size=[5,5], padding=\"same\",\n",
    "                                          activation='relu')(pool_layer_1)\n",
    "    pool_layer_2 = tf.keras.layers.MaxPool2D(pool_size=[2, 2], strides=2)(conv_layer_2)\n",
    "    pool_layer_2_flat = tf.keras.layers.Flatten()(pool_layer_2)\n",
    "    layer1 = tf.keras.layers.Dense(512, activation='relu')(pool_layer_2_flat)\n",
    "    dropout1 = tf.keras.layers.Dropout(rate=0.2)(layer1)\n",
    "    layer2 = tf.keras.layers.Dense(256, activation='relu')(dropout1)\n",
    "    dropout2 = tf.keras.layers.Dropout(rate=0.2)(layer2)\n",
    "    layer3 = tf.keras.layers.Dense(128, activation='relu')(dropout2)\n",
    "    output = tf.keras.layers.Dense(10, activation='linear')(layer3)\n",
    "    model = tf.keras.models.Model(inputs=x, outputs=output)\n",
    "    model.compile(loss=tf.keras.losses.SparseCategoricalCrossentropy(from_logits=True),\n",
    "                  optimizer=tf.keras.optimizers.Adam(alpha))\n",
    "    model.fit(x=x_, y=y_, epochs=epoch, batch_size=100)\n",
    "    return model\n",
    "\n",
    "\n",
    "conv_model_2 = create_and_train_model_functional(x_formatted, y, epoch=5)"
   ]
  },
  {
   "cell_type": "code",
   "execution_count": 9,
   "metadata": {
    "execution": {
     "iopub.execute_input": "2023-04-14T21:34:20.183593Z",
     "iopub.status.busy": "2023-04-14T21:34:20.183176Z",
     "iopub.status.idle": "2023-04-14T21:34:54.154361Z",
     "shell.execute_reply": "2023-04-14T21:34:54.152833Z",
     "shell.execute_reply.started": "2023-04-14T21:34:20.183559Z"
    }
   },
   "outputs": [
    {
     "name": "stdout",
     "output_type": "stream",
     "text": [
      "1000/1000 [==============================] - 23s 23ms/step\n",
      "Accuracy on the training set: 0.99475\n",
      "313/313 [==============================] - 7s 22ms/step\n",
      "Accuracy on the validation set: 0.9869\n"
     ]
    }
   ],
   "source": [
    "print(f\"Accuracy on the training set: {accuracy(conv_model_2,x_formatted,y)}\")\n",
    "print(f\"Accuracy on the validation set: {accuracy(conv_model_2, validation_x_formatted, validation_y)}\")"
   ]
  },
  {
   "cell_type": "code",
   "execution_count": null,
   "metadata": {},
   "outputs": [],
   "source": []
  }
 ],
 "metadata": {
  "kernelspec": {
   "display_name": "Python 3",
   "language": "python",
   "name": "python3"
  },
  "language_info": {
   "codemirror_mode": {
    "name": "ipython",
    "version": 3
   },
   "file_extension": ".py",
   "mimetype": "text/x-python",
   "name": "python",
   "nbconvert_exporter": "python",
   "pygments_lexer": "ipython3",
   "version": "3.8.8"
  }
 },
 "nbformat": 4,
 "nbformat_minor": 4
}
